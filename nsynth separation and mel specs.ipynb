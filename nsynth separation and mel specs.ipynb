{
 "cells": [
  {
   "cell_type": "code",
   "execution_count": 134,
   "metadata": {},
   "outputs": [],
   "source": [
    "import numpy as np\n",
    "import glob, os\n",
    "from pathlib import Path\n",
    "import librosa\n",
    "import scipy\n",
    "import shutil\n",
    "import gzip"
   ]
  },
  {
   "cell_type": "markdown",
   "metadata": {},
   "source": [
    "## Function Definitions"
   ]
  },
  {
   "cell_type": "code",
   "execution_count": 193,
   "metadata": {},
   "outputs": [],
   "source": [
    "\n",
    "def load_folder(data_path,max_count):\n",
    "    ## Function to load .wav files in a given folder to an array of (data, sample rate) ##\n",
    "    # INPUTS:\n",
    "    # data_path = string to folder containing files to be loaded\n",
    "    # max_count = number of files you wish to load in\n",
    "        ## max_count can be used to only load the first \"max_count\" number of files from a folder,\n",
    "        # if max_count == 0 then whole folder will be loaded\n",
    "    ## ------------------------------ \n",
    "  \n",
    "    samples = [];\n",
    "    count = 0;\n",
    "    \n",
    "    if max_count!= 0: #Load first 'max_count' number of files from folder\n",
    "        for file in glob.glob(os.path.join(data_path,'*.wav')):\n",
    "            if count < max_count:\n",
    "                temp,sr = librosa.load(file);\n",
    "                temp = librosa.util.fix_length(temp,2*sr);\n",
    "                samples.append([temp,sr])\n",
    "                count+=1;\n",
    "                \n",
    "    else:\n",
    "    #load whole folder\n",
    "         for file in glob.glob(os.path.join(data_path,'*.wav')):\n",
    "                temp,sr = librosa.load(file);\n",
    "                temp = librosa.util.fix_length(temp,2*sr);\n",
    "                samples.append([temp,sr])\n",
    "                \n",
    "    return samples\n",
    "            \n",
    "    \n",
    "def nsy_sep(src_path,dest_path): \n",
    "    \n",
    "    ## Specific function to separate nsynth dataset into folders based on instument family, returns nothing ##\n",
    "    # INPUTS:\n",
    "    # src_path = path to folder containing all nsynth files with no separation\n",
    "    # dest_path = destination path for folder containing premade folders for each instrument family labeled after\n",
    "    # the first three letters in the family name (ie, bass = bas, brass = bra, vocals = voc etc.)\n",
    "    ## -------------------------\n",
    "    for file in glob.glob(os.path.join(src_path,'*.wav')):\n",
    "        fam = str.split(file,src_path+'\\\\')[1][:3];\n",
    "        folder = os.path.join(dest_path,fam);\n",
    "        shutil.move(file,folder);\n",
    "        \n",
    "        \n",
    "\n",
    "def mel_spec_it(signal,fs):\n",
    "    ## Function to find Mel Spectrogram of a signal ##\n",
    "    # INPUTS:\n",
    "    # signal\n",
    "    # fs = sample rate\n",
    "    # Returns an array of shape(n_mel,time)\n",
    "    ##--------------------------    \n",
    "    melS = librosa.feature.melspectrogram(signal,fs) # Mel Spectorgram\n",
    "  \n",
    "    return melS\n",
    "\n",
    "def load_npz(npz_file):\n",
    "    ## Function to load a compressed .npz file into an array ##\n",
    "    ## -------------\n",
    "    aloda = np.load(npz_file)\n",
    "    dest_arry = aloda['a']\n",
    "    \n",
    "    return dest_arry\n",
    "\n",
    "    "
   ]
  },
  {
   "cell_type": "markdown",
   "metadata": {},
   "source": [
    "## Separating Nsynth Instrument Families "
   ]
  },
  {
   "cell_type": "code",
   "execution_count": 149,
   "metadata": {},
   "outputs": [],
   "source": [
    "src = 'D:\\\\SD Project\\\\nsynth\\\\nsynth-train.jsonwav.tar\\\\nsynth-train.jsonwav\\\\nsynth-train\\\\audio'\n",
    "des = 'D:\\\\SD Project\\\\nsynth\\\\instr_families'"
   ]
  },
  {
   "cell_type": "code",
   "execution_count": 150,
   "metadata": {},
   "outputs": [],
   "source": [
    "#uncomment to re-run separation\n",
    "# nsy_sep(src,des) \n",
    "\n"
   ]
  },
  {
   "cell_type": "markdown",
   "metadata": {},
   "source": [
    "## Loading Partial Nsynth Sets and finding Mel Specs\n",
    "(this takes a while so run carefully)\n",
    "\n",
    "- save files to folder at the end\n",
    "\n",
    "file contains array of shape(#sampes, n_mel, time)\n",
    " in the case of 1000 samples, 128 mel "
   ]
  },
  {
   "cell_type": "code",
   "execution_count": 188,
   "metadata": {},
   "outputs": [
    {
     "name": "stderr",
     "output_type": "stream",
     "text": [
      "Exception ignored in: <bound method ZipFile.__del__ of <zipfile.ZipFile file=<gzip on 0x241b3c7c198> mode='w'>>\n",
      "Traceback (most recent call last):\n",
      "  File \"C:\\Users\\anna_\\Anaconda3\\lib\\zipfile.py\", line 1663, in __del__\n",
      "    self.close()\n",
      "  File \"C:\\Users\\anna_\\Anaconda3\\lib\\zipfile.py\", line 1672, in close\n",
      "    raise ValueError(\"Can't close the ZIP file while there is \"\n",
      "ValueError: Can't close the ZIP file while there is an open writing handle on it. Close the writing handle before closing the zip.\n"
     ]
    }
   ],
   "source": [
    "# Load in 1000 Samples of each instrument\n",
    "path_bas = 'D:\\\\SD Project\\\\nsynth\\\\instr_families\\\\bas'\n",
    "path_voc = 'D:\\\\SD Project\\\\nsynth\\\\instr_families\\\\voc'\n",
    "\n",
    "bas_samp = load_folder(path_bas,1000)\n",
    "voc_samp = load_folder(path_voc,1000)\n",
    "\n"
   ]
  },
  {
   "cell_type": "code",
   "execution_count": 189,
   "metadata": {},
   "outputs": [
    {
     "data": {
      "text/plain": [
       "(1000, 2)"
      ]
     },
     "execution_count": 189,
     "metadata": {},
     "output_type": "execute_result"
    }
   ],
   "source": [
    "np.shape(bas_samp)"
   ]
  },
  {
   "cell_type": "code",
   "execution_count": 190,
   "metadata": {},
   "outputs": [],
   "source": [
    "# Generate Mel Spectrograms\n",
    "melSpecs_bas = [mel_spec_it(x[0],x[1]) for x in bas_samp]\n",
    "melSpecs_voc = [mel_spec_it(x[0],x[1]) for x in voc_samp]"
   ]
  },
  {
   "cell_type": "code",
   "execution_count": 191,
   "metadata": {},
   "outputs": [],
   "source": [
    "# Save Spectrograms to compressed files\n",
    "f_mel_bas = 'D:\\\\SD Project\\\\nsynth\\\\instr_families\\\\MelSpecs_comp\\\\bas_1000.npz'\n",
    "f_mel_voc = 'D:\\\\SD Project\\\\nsynth\\\\instr_families\\\\MelSpecs_comp\\\\voc_1000.npz'\n",
    "\n",
    "np.savez_compressed(f_mel_bas,a = melSpecs_bas)\n",
    "np.savez_compressed(f_mel_voc,a = melSpecs_voc)\n",
    "\n"
   ]
  },
  {
   "cell_type": "markdown",
   "metadata": {},
   "source": [
    "## Load in .npz Files\n"
   ]
  },
  {
   "cell_type": "code",
   "execution_count": 204,
   "metadata": {},
   "outputs": [
    {
     "data": {
      "text/plain": [
       "(1000, 128, 87)"
      ]
     },
     "execution_count": 204,
     "metadata": {},
     "output_type": "execute_result"
    }
   ],
   "source": [
    "bas_mel = load_npz(f_mel_bas)\n",
    "np.shape(bas_mel)"
   ]
  },
  {
   "cell_type": "code",
   "execution_count": 195,
   "metadata": {},
   "outputs": [
    {
     "data": {
      "text/plain": [
       "(1000, 128, 87)"
      ]
     },
     "execution_count": 195,
     "metadata": {},
     "output_type": "execute_result"
    }
   ],
   "source": [
    "voc_mel = mel = load_npz(f_mel_voc)\n",
    "np.shape(voc_mel)"
   ]
  },
  {
   "cell_type": "code",
   "execution_count": null,
   "metadata": {},
   "outputs": [],
   "source": []
  },
  {
   "cell_type": "code",
   "execution_count": null,
   "metadata": {},
   "outputs": [],
   "source": []
  },
  {
   "cell_type": "markdown",
   "metadata": {},
   "source": [
    "## Scratch Paper - IGNORE \n"
   ]
  },
  {
   "cell_type": "code",
   "execution_count": 187,
   "metadata": {},
   "outputs": [
    {
     "data": {
      "text/plain": [
       "(4, 2)"
      ]
     },
     "execution_count": 187,
     "metadata": {},
     "output_type": "execute_result"
    }
   ],
   "source": [
    "p = 'D:\\\\SD Project\\\\nsynth\\\\instr_families\\\\bas'\n",
    "samp = load_folder(p,4);\n",
    "\n",
    "comp_path = 'D:\\\\SD Project\\\\nsynth\\\\instr_families\\\\MelSpecs_comp'\n",
    "\n",
    "np.shape(samp)\n",
    "\n"
   ]
  },
  {
   "cell_type": "code",
   "execution_count": 165,
   "metadata": {},
   "outputs": [],
   "source": [
    "# for x in samp:\n",
    "    \n",
    "#     melsp = mel_spec_it(x[0],x[1],comp_path)\n",
    "\n",
    "melspecs =[mel_spec_it(x[0], x[1]) for x in samp]"
   ]
  },
  {
   "cell_type": "code",
   "execution_count": 166,
   "metadata": {},
   "outputs": [
    {
     "data": {
      "text/plain": [
       "(2, 128, 87)"
      ]
     },
     "execution_count": 166,
     "metadata": {},
     "output_type": "execute_result"
    }
   ],
   "source": [
    "np.shape(melspecs)"
   ]
  },
  {
   "cell_type": "code",
   "execution_count": 174,
   "metadata": {},
   "outputs": [],
   "source": [
    "# Save Array as compressed file\n",
    "f = 'D:\\\\SD Project\\\\nsynth\\\\instr_families\\\\MelSpecs_comp.npz'\n",
    "\n",
    "np.savez_compressed(f,a = melspecs)\n"
   ]
  },
  {
   "cell_type": "code",
   "execution_count": 179,
   "metadata": {},
   "outputs": [
    {
     "data": {
      "text/plain": [
       "(2, 128, 87)"
      ]
     },
     "execution_count": 179,
     "metadata": {},
     "output_type": "execute_result"
    }
   ],
   "source": [
    "# extract/load compressed file back into array\n",
    "aloda = np.load(f)\n",
    "\n",
    "mel = aloda['a']\n",
    "\n",
    "np.shape(mel)\n",
    "\n",
    "# mix = np.vstack([bas_mel,voc_mel]) \n",
    "# np.shape(mix)\n"
   ]
  },
  {
   "cell_type": "code",
   "execution_count": null,
   "metadata": {},
   "outputs": [],
   "source": []
  },
  {
   "cell_type": "code",
   "execution_count": null,
   "metadata": {},
   "outputs": [],
   "source": []
  },
  {
   "cell_type": "code",
   "execution_count": null,
   "metadata": {},
   "outputs": [],
   "source": []
  }
 ],
 "metadata": {
  "kernelspec": {
   "display_name": "Python 3",
   "language": "python",
   "name": "python3"
  },
  "language_info": {
   "codemirror_mode": {
    "name": "ipython",
    "version": 3
   },
   "file_extension": ".py",
   "mimetype": "text/x-python",
   "name": "python",
   "nbconvert_exporter": "python",
   "pygments_lexer": "ipython3",
   "version": "3.6.5"
  }
 },
 "nbformat": 4,
 "nbformat_minor": 2
}
