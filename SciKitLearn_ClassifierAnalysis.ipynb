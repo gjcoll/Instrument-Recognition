{
 "cells": [
  {
   "cell_type": "code",
   "execution_count": 146,
   "metadata": {},
   "outputs": [],
   "source": [
    "import numpy as np\n",
    "import glob, os\n",
    "import matplotlib.pyplot as plt\n",
    "from matplotlib.colors import ListedColormap\n",
    "from sklearn.model_selection import train_test_split\n",
    "from sklearn.preprocessing import StandardScaler\n",
    "from sklearn.datasets import make_moons, make_circles, make_classification\n",
    "from sklearn.neural_network import MLPClassifier\n",
    "from sklearn.neighbors import KNeighborsClassifier\n",
    "from sklearn.svm import SVC\n",
    "from sklearn.gaussian_process import GaussianProcessClassifier\n",
    "from sklearn.gaussian_process.kernels import RBF\n",
    "from sklearn.tree import DecisionTreeClassifier\n",
    "from sklearn.ensemble import RandomForestClassifier, AdaBoostClassifier\n",
    "from sklearn.naive_bayes import GaussianNB\n",
    "from sklearn.discriminant_analysis import QuadraticDiscriminantAnalysis\n",
    "import pandas as pd\n",
    "\n",
    "from pathlib import Path\n",
    "import librosa\n",
    "import scipy"
   ]
  },
  {
   "cell_type": "markdown",
   "metadata": {},
   "source": [
    "## Defined Functions:"
   ]
  },
  {
   "cell_type": "code",
   "execution_count": 147,
   "metadata": {},
   "outputs": [],
   "source": [
    "def extract_features(signal, fs):\n",
    "    # Always Need to give an input for sampling rate so that other higher level features can be extracter\n",
    "   \n",
    "    zcr = librosa.feature.zero_crossing_rate(signal); #Zero Crossing Rate\n",
    "    spec_cent = librosa.feature.spectral_centroid(signal,fs);  #Spectral Centroid\n",
    "    tontz = librosa.feature.tonnetz(signal,fs) #tonal centroid features\n",
    "    S = librosa.feature.melspectrogram(signal,fs) # Mel Spectorgram\n",
    "    mfc = librosa.feature.mfcc(signal,fs,S) #Mel frequency Coefficents\n",
    "    return zcr, spec_cent, tontz, S, mfc\n",
    "  \n",
    "    \n",
    "## Function to load all .wav files in a given folder to an array of (data, sample rate) ##\n",
    "def load_folder(data_path):\n",
    "    # input string of path to specific folder\n",
    "    samples = [];\n",
    "    \n",
    "    for file in glob.glob(os.path.join(data_path,'*.wav')):\n",
    "        temp,sr = librosa.load(file);\n",
    "        temp = librosa.util.fix_length(temp,2*sr);\n",
    "        samples.append([temp,sr])\n",
    "        \n",
    "    return samples\n",
    "            "
   ]
  },
  {
   "cell_type": "markdown",
   "metadata": {},
   "source": [
    "## Load Sample Files:"
   ]
  },
  {
   "cell_type": "code",
   "execution_count": 148,
   "metadata": {},
   "outputs": [],
   "source": [
    "# CHANGE PATHS TO YOUR FOLDERS\n",
    "kick_path = 'audio\\kickSamples'; \n",
    "snare_path = 'audio\\snareSamples';\n",
    "\n",
    "kickSamples = load_folder(kick_path);\n",
    "snareSamples = load_folder(snare_path);\n"
   ]
  },
  {
   "cell_type": "code",
   "execution_count": 149,
   "metadata": {},
   "outputs": [
    {
     "data": {
      "text/plain": [
       "(120, 2)"
      ]
     },
     "execution_count": 149,
     "metadata": {},
     "output_type": "execute_result"
    }
   ],
   "source": [
    "np.shape(kickSamples) ## If files loaded correctly should return (# samples, 2)"
   ]
  },
  {
   "cell_type": "markdown",
   "metadata": {},
   "source": [
    "## Extract Features:"
   ]
  },
  {
   "cell_type": "code",
   "execution_count": 150,
   "metadata": {},
   "outputs": [],
   "source": [
    "kickFeat = [extract_features(x[0], x[1]) for x in kickSamples]\n",
    "snareFeat = [extract_features(x[0], x[1]) for x in snareSamples]"
   ]
  },
  {
   "cell_type": "markdown",
   "metadata": {},
   "source": [
    "$\\textbf{Features output as lists of feature attributes for each sample:}$\n",
    "\n",
    "kickFeat[k][0] -> zcr features for kick sample k\n",
    "\n",
    "kickFeat[k][1] -> spec centroid for kick sample k\n",
    "\n",
    "kickFeat[k][2] -> tonal centroid for kick sample k\n",
    "\n",
    "kickFeat[k][3] -> mel spec for kick smaple k\n",
    "\n",
    "kickFeat[k][4] -> mfcs for kick sample k\n"
   ]
  },
  {
   "cell_type": "code",
   "execution_count": 151,
   "metadata": {
    "scrolled": true
   },
   "outputs": [],
   "source": [
    "# Organize extractions by feature classes rater than samples\n",
    "\n",
    "# assign binary tags for sample types\n",
    "class_tags = np.ones(len(kickSamples)) \n",
    "class_tags = np.append(class_tags, np.zeros(len(snareSamples)))\n",
    "\n",
    "zero_co= []\n",
    "cent_freq = []\n",
    "tonal_ctroid = []\n",
    "mfccs = []\n",
    "\n",
    "i = 0\n",
    "for s in kickFeat:\n",
    "    zero_co.append(s[0][i])\n",
    "    cent_freq.append( s[1][i])\n",
    "    tonal_ctroid.append(s[2][i])\n",
    "    mfccs.append(s[4][i])\n",
    "\n",
    "\n",
    "for s in snareFeat:\n",
    "    zero_co.append(s[0][i])\n",
    "    cent_freq.append( s[1][i])\n",
    "    tonal_ctroid.append(s[2][i])\n",
    "    mfccs.append(s[4][i])\n",
    "\n",
    "    \n",
    "zero_co = (zero_co, class_tags)\n",
    "cent_freq = (cent_freq,  class_tags)\n",
    "tonal_ctroid = (tonal_ctroid, class_tags)\n",
    "mfccs = (mfccs,  class_tags)\n",
    "\n",
    "# Create dataset from extracted features\n",
    "\n",
    "datasets = [make_moons(noise=0.3),make_circles(noise=0.3),zero_co,cent_freq,tonal_ctroid,mfccs]\n",
    "h = .02  # step size in the mesh"
   ]
  },
  {
   "cell_type": "markdown",
   "metadata": {},
   "source": [
    "## Classification:\n"
   ]
  },
  {
   "cell_type": "code",
   "execution_count": 152,
   "metadata": {},
   "outputs": [
    {
     "name": "stderr",
     "output_type": "stream",
     "text": [
      "C:\\Users\\anna_\\Anaconda3\\lib\\site-packages\\sklearn\\neural_network\\multilayer_perceptron.py:564: ConvergenceWarning: Stochastic Optimizer: Maximum iterations (200) reached and the optimization hasn't converged yet.\n",
      "  % self.max_iter, ConvergenceWarning)\n",
      "C:\\Users\\anna_\\Anaconda3\\lib\\site-packages\\sklearn\\neural_network\\multilayer_perceptron.py:564: ConvergenceWarning: Stochastic Optimizer: Maximum iterations (200) reached and the optimization hasn't converged yet.\n",
      "  % self.max_iter, ConvergenceWarning)\n",
      "C:\\Users\\anna_\\Anaconda3\\lib\\site-packages\\sklearn\\gaussian_process\\gpc.py:430: UserWarning: fmin_l_bfgs_b terminated abnormally with the  state: {'grad': array([-0.25153769,  1.05515842]), 'task': b'ABNORMAL_TERMINATION_IN_LNSRCH', 'funcalls': 111, 'nit': 13, 'warnflag': 2}\n",
      "  \" state: %s\" % convergence_dict)\n",
      "C:\\Users\\anna_\\Anaconda3\\lib\\site-packages\\sklearn\\neural_network\\multilayer_perceptron.py:564: ConvergenceWarning: Stochastic Optimizer: Maximum iterations (200) reached and the optimization hasn't converged yet.\n",
      "  % self.max_iter, ConvergenceWarning)\n",
      "C:\\Users\\anna_\\Anaconda3\\lib\\site-packages\\sklearn\\discriminant_analysis.py:682: UserWarning: Variables are collinear\n",
      "  warnings.warn(\"Variables are collinear\")\n",
      "C:\\Users\\anna_\\Anaconda3\\lib\\site-packages\\sklearn\\neural_network\\multilayer_perceptron.py:564: ConvergenceWarning: Stochastic Optimizer: Maximum iterations (200) reached and the optimization hasn't converged yet.\n",
      "  % self.max_iter, ConvergenceWarning)\n",
      "C:\\Users\\anna_\\Anaconda3\\lib\\site-packages\\sklearn\\discriminant_analysis.py:682: UserWarning: Variables are collinear\n",
      "  warnings.warn(\"Variables are collinear\")\n",
      "C:\\Users\\anna_\\Anaconda3\\lib\\site-packages\\sklearn\\neural_network\\multilayer_perceptron.py:564: ConvergenceWarning: Stochastic Optimizer: Maximum iterations (200) reached and the optimization hasn't converged yet.\n",
      "  % self.max_iter, ConvergenceWarning)\n",
      "C:\\Users\\anna_\\Anaconda3\\lib\\site-packages\\sklearn\\discriminant_analysis.py:682: UserWarning: Variables are collinear\n",
      "  warnings.warn(\"Variables are collinear\")\n",
      "C:\\Users\\anna_\\Anaconda3\\lib\\site-packages\\sklearn\\neural_network\\multilayer_perceptron.py:564: ConvergenceWarning: Stochastic Optimizer: Maximum iterations (200) reached and the optimization hasn't converged yet.\n",
      "  % self.max_iter, ConvergenceWarning)\n",
      "C:\\Users\\anna_\\Anaconda3\\lib\\site-packages\\sklearn\\discriminant_analysis.py:682: UserWarning: Variables are collinear\n",
      "  warnings.warn(\"Variables are collinear\")\n"
     ]
    }
   ],
   "source": [
    "\n",
    "h = .02  # step size in the mesh\n",
    "\n",
    "names = [\"Nearest Neighbors\", \"Linear SVM\", \"RBF SVM\", \"Gaussian Process\",\n",
    "         \"Decision Tree\", \"Random Forest\", \"Neural Net\", \"AdaBoost\",\n",
    "         \"Naive Bayes\", \"QDA\"]\n",
    "\n",
    "classifiers = [\n",
    "    # Classifiers are configured here\n",
    "    KNeighborsClassifier(3),\n",
    "    SVC(kernel=\"linear\", C=0.025),\n",
    "    SVC(gamma=2, C=1),\n",
    "    GaussianProcessClassifier(1.0 * RBF(1.0)),\n",
    "    DecisionTreeClassifier(max_depth=5),\n",
    "    RandomForestClassifier(max_depth=5, n_estimators=10, max_features=1),\n",
    "    MLPClassifier(alpha=1),\n",
    "    AdaBoostClassifier(),\n",
    "    GaussianNB(),\n",
    "    QuadraticDiscriminantAnalysis()]\n",
    "\n",
    "\n",
    "\n",
    "\n",
    "\n",
    "\n",
    "## Perprocessing breakdown ##\n",
    "i = 0 \n",
    "analysis_data = np.zeros((len(datasets),len(names)))\n",
    "for ds in datasets:\n",
    "    #ds is a tuple\n",
    "    # unpacks X as the feature training set, y as the target values\n",
    "    X, y = ds\n",
    "    # StandardScaler will remove the mean and scaling to unit variance\n",
    "    # fit_transform: fits then transforms\n",
    "    # fit: Compute the mean and std to be used for later scaling\n",
    "    # transform: Perform standardization by centering and scaling\n",
    "    X = StandardScaler().fit_transform(X)\n",
    "    # splits the features into random train and test data\n",
    "    X_train, X_test, y_train, y_test = \\\n",
    "        train_test_split(X, y, test_size=.4, random_state=42)\n",
    "\n",
    "    j=0\n",
    "    for name, clf in zip(names, classifiers):\n",
    "        clf.fit(X_train,y_train) #trains model\n",
    "        score = clf.score(X_test, y_test) # tests model\n",
    "        analysis_data[i][j] = score\n",
    "        # clf may be the model, so it will need to be saved somewhere if it is accurate\n",
    "        j+=1\n",
    "    i+=1\n",
    "        \n",
    "df=pd.DataFrame(analysis_data,columns = names)\n",
    "df.index= ['make_moons', 'make_circles','zero_crossing','centrial_frequency','tonnetz','mfccs']"
   ]
  },
  {
   "cell_type": "markdown",
   "metadata": {},
   "source": [
    "## Display Analysis of Results:"
   ]
  },
  {
   "cell_type": "code",
   "execution_count": 153,
   "metadata": {},
   "outputs": [
    {
     "data": {
      "text/html": [
       "<div>\n",
       "<style scoped>\n",
       "    .dataframe tbody tr th:only-of-type {\n",
       "        vertical-align: middle;\n",
       "    }\n",
       "\n",
       "    .dataframe tbody tr th {\n",
       "        vertical-align: top;\n",
       "    }\n",
       "\n",
       "    .dataframe thead th {\n",
       "        text-align: right;\n",
       "    }\n",
       "</style>\n",
       "<table border=\"1\" class=\"dataframe\">\n",
       "  <thead>\n",
       "    <tr style=\"text-align: right;\">\n",
       "      <th></th>\n",
       "      <th>Nearest Neighbors</th>\n",
       "      <th>Linear SVM</th>\n",
       "      <th>RBF SVM</th>\n",
       "      <th>Gaussian Process</th>\n",
       "      <th>Decision Tree</th>\n",
       "      <th>Random Forest</th>\n",
       "      <th>Neural Net</th>\n",
       "      <th>AdaBoost</th>\n",
       "      <th>Naive Bayes</th>\n",
       "      <th>QDA</th>\n",
       "    </tr>\n",
       "  </thead>\n",
       "  <tbody>\n",
       "    <tr>\n",
       "      <th>make_moons</th>\n",
       "      <td>0.900000</td>\n",
       "      <td>0.800000</td>\n",
       "      <td>0.925000</td>\n",
       "      <td>0.825000</td>\n",
       "      <td>0.875000</td>\n",
       "      <td>0.800000</td>\n",
       "      <td>0.850000</td>\n",
       "      <td>0.825000</td>\n",
       "      <td>0.825000</td>\n",
       "      <td>0.825000</td>\n",
       "    </tr>\n",
       "    <tr>\n",
       "      <th>make_circles</th>\n",
       "      <td>0.325000</td>\n",
       "      <td>0.475000</td>\n",
       "      <td>0.325000</td>\n",
       "      <td>0.325000</td>\n",
       "      <td>0.400000</td>\n",
       "      <td>0.400000</td>\n",
       "      <td>0.375000</td>\n",
       "      <td>0.525000</td>\n",
       "      <td>0.450000</td>\n",
       "      <td>0.400000</td>\n",
       "    </tr>\n",
       "    <tr>\n",
       "      <th>zero_crossing</th>\n",
       "      <td>0.969388</td>\n",
       "      <td>0.938776</td>\n",
       "      <td>0.979592</td>\n",
       "      <td>0.989796</td>\n",
       "      <td>1.000000</td>\n",
       "      <td>0.989796</td>\n",
       "      <td>0.959184</td>\n",
       "      <td>0.979592</td>\n",
       "      <td>0.938776</td>\n",
       "      <td>0.989796</td>\n",
       "    </tr>\n",
       "    <tr>\n",
       "      <th>centrial_frequency</th>\n",
       "      <td>0.989796</td>\n",
       "      <td>0.989796</td>\n",
       "      <td>0.969388</td>\n",
       "      <td>0.989796</td>\n",
       "      <td>1.000000</td>\n",
       "      <td>1.000000</td>\n",
       "      <td>0.989796</td>\n",
       "      <td>1.000000</td>\n",
       "      <td>0.969388</td>\n",
       "      <td>0.969388</td>\n",
       "    </tr>\n",
       "    <tr>\n",
       "      <th>tonnetz</th>\n",
       "      <td>0.704082</td>\n",
       "      <td>0.663265</td>\n",
       "      <td>0.500000</td>\n",
       "      <td>0.775510</td>\n",
       "      <td>0.826531</td>\n",
       "      <td>0.836735</td>\n",
       "      <td>0.816327</td>\n",
       "      <td>0.908163</td>\n",
       "      <td>0.663265</td>\n",
       "      <td>0.979592</td>\n",
       "    </tr>\n",
       "    <tr>\n",
       "      <th>mfccs</th>\n",
       "      <td>1.000000</td>\n",
       "      <td>1.000000</td>\n",
       "      <td>0.969388</td>\n",
       "      <td>1.000000</td>\n",
       "      <td>1.000000</td>\n",
       "      <td>1.000000</td>\n",
       "      <td>1.000000</td>\n",
       "      <td>1.000000</td>\n",
       "      <td>1.000000</td>\n",
       "      <td>0.989796</td>\n",
       "    </tr>\n",
       "  </tbody>\n",
       "</table>\n",
       "</div>"
      ],
      "text/plain": [
       "                    Nearest Neighbors  Linear SVM   RBF SVM  Gaussian Process  \\\n",
       "make_moons                   0.900000    0.800000  0.925000          0.825000   \n",
       "make_circles                 0.325000    0.475000  0.325000          0.325000   \n",
       "zero_crossing                0.969388    0.938776  0.979592          0.989796   \n",
       "centrial_frequency           0.989796    0.989796  0.969388          0.989796   \n",
       "tonnetz                      0.704082    0.663265  0.500000          0.775510   \n",
       "mfccs                        1.000000    1.000000  0.969388          1.000000   \n",
       "\n",
       "                    Decision Tree  Random Forest  Neural Net  AdaBoost  \\\n",
       "make_moons               0.875000       0.800000    0.850000  0.825000   \n",
       "make_circles             0.400000       0.400000    0.375000  0.525000   \n",
       "zero_crossing            1.000000       0.989796    0.959184  0.979592   \n",
       "centrial_frequency       1.000000       1.000000    0.989796  1.000000   \n",
       "tonnetz                  0.826531       0.836735    0.816327  0.908163   \n",
       "mfccs                    1.000000       1.000000    1.000000  1.000000   \n",
       "\n",
       "                    Naive Bayes       QDA  \n",
       "make_moons             0.825000  0.825000  \n",
       "make_circles           0.450000  0.400000  \n",
       "zero_crossing          0.938776  0.989796  \n",
       "centrial_frequency     0.969388  0.969388  \n",
       "tonnetz                0.663265  0.979592  \n",
       "mfccs                  1.000000  0.989796  "
      ]
     },
     "execution_count": 153,
     "metadata": {},
     "output_type": "execute_result"
    }
   ],
   "source": [
    "df"
   ]
  },
  {
   "cell_type": "code",
   "execution_count": null,
   "metadata": {},
   "outputs": [],
   "source": []
  }
 ],
 "metadata": {
  "kernelspec": {
   "display_name": "Python 3",
   "language": "python",
   "name": "python3"
  },
  "language_info": {
   "codemirror_mode": {
    "name": "ipython",
    "version": 3
   },
   "file_extension": ".py",
   "mimetype": "text/x-python",
   "name": "python",
   "nbconvert_exporter": "python",
   "pygments_lexer": "ipython3",
   "version": "3.6.5"
  }
 },
 "nbformat": 4,
 "nbformat_minor": 2
}
